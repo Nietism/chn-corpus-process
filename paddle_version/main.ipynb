{
 "cells": [
  {
   "cell_type": "markdown",
   "metadata": {},
   "source": [
    "腾讯汪鼎民等人在 [A Hybrid Approach to Automatic Corpus Generation for Chinese Spelling Check (EMNLP 2018)](https://aclanthology.org/D18-1273/) 中的做法：爬取人民日报的文本（文本是经过很多编辑、校对筛选后登报的，可以近似认定为是正确的），在每个句子中随机选择 1 到 2 个字被 OCR 检测，对转化的图片进行部分模糊处理再让 OCR 多次检测，选出 OCR 识别出错的结果，就相当于生成了一条形近字错误样本（通过对比原字与识别字的笔画的编辑距离剔除差异过大的候选字）。\n",
    "\n",
    "![](https://ai-studio-static-online.cdn.bcebos.com/2a4abff434df4f669a56944548a6affe67cf0318fbd94822a495b235db790a6e)"
   ]
  },
  {
   "cell_type": "markdown",
   "metadata": {},
   "source": [
    "主要所需依赖在 `./requirements.txt` 中，可直接安装。\n",
    "```bash\n",
    "pip install -r requirements.txt\n",
    "```\n",
    "将汉字转为图像，执行 `./generate_image_by_char.py` 。\n",
    "```bash\n",
    "python generate_image_by_char.py\n",
    "```\n",
    "\n",
    "示例demo在 `./ocr-test.ipnb` 中。\n",
    "\n"
   ]
  },
  {
   "cell_type": "markdown",
   "metadata": {},
   "source": [
    "From the [toy code](https://github.com/Nietism/chn-corpus-process) on GitHub.\n",
    "\n",
    "The paper of Wang et al. [A Hybrid Approach to Automatic Corpus Generation for Chinese Spelling Check (EMNLP 2018)](https://aclanthology.org/D18-1273/)\n",
    "\n",
    "Derived from [the corresponding code](https://github.com/wdimmy/Automatic-Corpus-Generation).\n"
   ]
  }
 ],
 "metadata": {
  "kernelspec": {
   "display_name": "Python 3",
   "language": "python",
   "name": "py35-paddle1.2.0"
  },
  "language_info": {
   "codemirror_mode": {
    "name": "ipython",
    "version": 3
   },
   "file_extension": ".py",
   "mimetype": "text/x-python",
   "name": "python",
   "nbconvert_exporter": "python",
   "pygments_lexer": "ipython3",
   "version": "3.7.4"
  }
 },
 "nbformat": 4,
 "nbformat_minor": 4
}
