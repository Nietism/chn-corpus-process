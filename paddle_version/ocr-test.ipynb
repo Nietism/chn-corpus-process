{
 "cells": [
  {
   "cell_type": "markdown",
   "id": "ddf881bc-7270-47d1-a521-a92edb889049",
   "metadata": {},
   "source": [
    "# a simple demo"
   ]
  },
  {
   "cell_type": "code",
   "execution_count": 1,
   "id": "4a6359d1-6903-4f07-aa44-7e187b83d208",
   "metadata": {
    "execution": {
     "iopub.execute_input": "2022-07-08T09:10:45.509921Z",
     "iopub.status.busy": "2022-07-08T09:10:45.509442Z",
     "iopub.status.idle": "2022-07-08T09:10:52.377561Z",
     "shell.execute_reply": "2022-07-08T09:10:52.376460Z",
     "shell.execute_reply.started": "2022-07-08T09:10:45.509896Z"
    },
    "scrolled": true,
    "tags": []
   },
   "outputs": [
    {
     "name": "stdout",
     "output_type": "stream",
     "text": [
      "[2022/07/08 17:10:47] ppocr DEBUG: Namespace(alpha=1.0, benchmark=False, beta=1.0, cls_batch_num=6, cls_image_shape='3, 48, 192', cls_model_dir='/home/aistudio/.paddleocr/whl/cls/ch_ppocr_mobile_v2.0_cls_infer', cls_thresh=0.9, cpu_threads=10, crop_res_save_dir='./output', det=True, det_algorithm='DB', det_db_box_thresh=0.6, det_db_score_mode='fast', det_db_thresh=0.3, det_db_unclip_ratio=1.5, det_east_cover_thresh=0.1, det_east_nms_thresh=0.2, det_east_score_thresh=0.8, det_fce_box_type='poly', det_limit_side_len=960, det_limit_type='max', det_model_dir='/home/aistudio/.paddleocr/whl/det/ch/ch_PP-OCRv3_det_infer', det_pse_box_thresh=0.85, det_pse_box_type='quad', det_pse_min_area=16, det_pse_scale=1, det_pse_thresh=0, det_sast_nms_thresh=0.2, det_sast_polygon=False, det_sast_score_thresh=0.5, draw_img_save_dir='./inference_results', drop_score=0.5, e2e_algorithm='PGNet', e2e_char_dict_path='./ppocr/utils/ic15_dict.txt', e2e_limit_side_len=768, e2e_limit_type='max', e2e_model_dir=None, e2e_pgnet_mode='fast', e2e_pgnet_score_thresh=0.5, e2e_pgnet_valid_set='totaltext', enable_mkldnn=False, fourier_degree=5, gpu_mem=500, help='==SUPPRESS==', image_dir=None, ir_optim=True, label_list=['0', '180'], lang='ch', layout=True, layout_label_map=None, layout_path_model='lp://PubLayNet/ppyolov2_r50vd_dcn_365e_publaynet/config', max_batch_size=10, max_text_length=25, min_subgraph_size=15, mode='structure', ocr=True, ocr_version='PP-OCRv3', output='./output', precision='fp32', process_id=0, rec=True, rec_algorithm='SVTR_LCNet', rec_batch_num=6, rec_char_dict_path='/opt/conda/envs/python35-paddle120-env/lib/python3.7/site-packages/paddleocr/ppocr/utils/ppocr_keys_v1.txt', rec_image_shape='3, 48, 320', rec_model_dir='/home/aistudio/.paddleocr/whl/rec/ch/ch_PP-OCRv3_rec_infer', save_crop_res=False, save_log_path='./log_output/', scales=[8, 16, 32], show_log=True, structure_version='PP-STRUCTURE', table=True, table_char_dict_path=None, table_max_len=488, table_model_dir=None, total_process_num=1, type='ocr', use_angle_cls=True, use_dilation=False, use_gpu=True, use_mp=False, use_onnx=False, use_pdserving=False, use_space_char=True, use_tensorrt=False, vis_font_path='./doc/fonts/simfang.ttf', warmup=False)\n",
      "[2022/07/08 17:10:52] ppocr DEBUG: dt_boxes num : 1, elapse : 2.1444857120513916\n",
      "[2022/07/08 17:10:52] ppocr DEBUG: cls num  : 1, elapse : 0.006192922592163086\n",
      "[2022/07/08 17:10:52] ppocr DEBUG: rec_res num  : 1, elapse : 0.008494853973388672\n",
      "The recognized result by ocr is: ['捧']\n"
     ]
    }
   ],
   "source": [
    "from paddleocr import PaddleOCR, draw_ocr\n",
    "from PIL import Image\n",
    "\n",
    "ocr = PaddleOCR(use_angle_cls=True, lang=\"ch\")  # need to run only once to download and load model into memory\n",
    "query_char = \"揍\"\n",
    "img_path = \"./data/\" + query_char + \".png\"\n",
    "result = ocr.ocr(img_path, cls=True)\n",
    "\n",
    "txts = [line[1][0] for line in result]\n",
    "print(\"The recognized result by ocr is:\", txts)"
   ]
  },
  {
   "cell_type": "code",
   "execution_count": 2,
   "id": "ef4924de-2faa-4e09-b4c3-342aa9f1a6d5",
   "metadata": {
    "execution": {
     "iopub.execute_input": "2022-07-08T09:10:52.380325Z",
     "iopub.status.busy": "2022-07-08T09:10:52.379447Z",
     "iopub.status.idle": "2022-07-08T09:10:52.452132Z",
     "shell.execute_reply": "2022-07-08T09:10:52.451156Z",
     "shell.execute_reply.started": "2022-07-08T09:10:52.380273Z"
    },
    "scrolled": true,
    "tags": []
   },
   "outputs": [
    {
     "name": "stdout",
     "output_type": "stream",
     "text": [
      "pygame 2.1.2 (SDL 2.0.16, Python 3.7.4)\n",
      "Hello from the pygame community. https://www.pygame.org/contribute.html\n",
      "[2022/07/08 17:10:52] ppocr DEBUG: dt_boxes num : 1, elapse : 0.007737398147583008\n",
      "[2022/07/08 17:10:52] ppocr DEBUG: cls num  : 1, elapse : 0.005206584930419922\n",
      "[2022/07/08 17:10:52] ppocr DEBUG: rec_res num  : 1, elapse : 0.006890773773193359\n",
      "The recognized result by ocr is: ['捧']\n"
     ]
    }
   ],
   "source": [
    "from utils import getLocation, blur\n",
    "\n",
    "blur(query_char)\n",
    "\n",
    "blur_result = ocr.ocr(\"./blurred.png\", cls=True)\n",
    "blur_txts = [line[1][0] for line in result]\n",
    "\n",
    "print(\"The recognized result by ocr is:\", blur_txts)"
   ]
  }
 ],
 "metadata": {
  "kernelspec": {
   "display_name": "Python 3",
   "language": "python",
   "name": "py35-paddle1.2.0"
  },
  "language_info": {
   "codemirror_mode": {
    "name": "ipython",
    "version": 3
   },
   "file_extension": ".py",
   "mimetype": "text/x-python",
   "name": "python",
   "nbconvert_exporter": "python",
   "pygments_lexer": "ipython3",
   "version": "3.7.4"
  }
 },
 "nbformat": 4,
 "nbformat_minor": 5
}
