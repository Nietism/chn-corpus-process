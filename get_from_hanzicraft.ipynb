{
 "cells": [
  {
   "cell_type": "code",
   "execution_count": 1,
   "metadata": {},
   "outputs": [],
   "source": [
    "# !pip install requests_html"
   ]
  },
  {
   "cell_type": "code",
   "execution_count": 2,
   "metadata": {},
   "outputs": [],
   "source": [
    "from requests_html import HTMLSession\n",
    "\n",
    "session = HTMLSession()\n",
    "\n",
    "character = \"报\"\n",
    "url = \"https://hanzicraft.com/character/\" + character\n",
    "r = session.get(url)"
   ]
  },
  {
   "cell_type": "code",
   "execution_count": 3,
   "metadata": {},
   "outputs": [],
   "source": [
    "# print(r.html.text)"
   ]
  },
  {
   "cell_type": "code",
   "execution_count": 4,
   "metadata": {},
   "outputs": [],
   "source": [
    "span_start = r.html.text.find(\"Decomposition:\")\n",
    "span_end = r.html.text.find(\"Pinyin & Meaning:\")\n",
    "text_span = r.html.text[span_start: span_end]"
   ]
  },
  {
   "cell_type": "code",
   "execution_count": 5,
   "metadata": {},
   "outputs": [
    {
     "data": {
      "text/plain": [
       "'Decomposition:\\nOnce :\\n报 => 扌, 𠬝\\nRadical :\\n报 => 扌 (hand), 卩 (seal), 又 (right hand)\\nGraphical :\\n报 => 亅, 二, 丨, ㇆, ㇇, ㇏\\n'"
      ]
     },
     "execution_count": 5,
     "metadata": {},
     "output_type": "execute_result"
    }
   ],
   "source": [
    "text_span"
   ]
  },
  {
   "cell_type": "code",
   "execution_count": 6,
   "metadata": {},
   "outputs": [],
   "source": [
    "flag_pos_1 = text_span.find(\"Once :\")\n",
    "flag_pos_2 = text_span.find(\"Radical :\")\n",
    "flag_pos_3 = text_span.find(\"Graphical :\")\n",
    "\n",
    "once_decomposition = text_span[flag_pos_1: flag_pos_2].strip()\n",
    "radical_decomposition = text_span[flag_pos_2: flag_pos_3].strip()\n",
    "graphical_decomposition = text_span[flag_pos_3: ].strip()\n",
    "\n",
    "once_decomposition = once_decomposition[once_decomposition.find(\"=> \") + 3:]\n",
    "radical_decomposition = radical_decomposition[radical_decomposition.find(\"=> \") + 3:]\n",
    "graphical_decomposition = graphical_decomposition[graphical_decomposition.find(\"=> \") + 3:]"
   ]
  },
  {
   "cell_type": "code",
   "execution_count": 7,
   "metadata": {},
   "outputs": [
    {
     "data": {
      "text/plain": [
       "('扌, 𠬝', '扌 (hand), 卩 (seal), 又 (right hand)', '亅, 二, 丨, ㇆, ㇇, ㇏')"
      ]
     },
     "execution_count": 7,
     "metadata": {},
     "output_type": "execute_result"
    }
   ],
   "source": [
    "once_decomposition, radical_decomposition, graphical_decomposition"
   ]
  },
  {
   "cell_type": "code",
   "execution_count": 16,
   "metadata": {},
   "outputs": [
    {
     "name": "stdout",
     "output_type": "stream",
     "text": [
      "['扌', '卩', '又']\n"
     ]
    }
   ],
   "source": [
    "radical_list = list(radical_decomposition.split(\",\"))\n",
    "processed_radical_list = []\n",
    "for item in radical_list:\n",
    "    new_item = item[: item.find(\"(\")].strip()\n",
    "    processed_radical_list.append(new_item)\n",
    "\n",
    "print(processed_radical_list)"
   ]
  },
  {
   "cell_type": "code",
   "execution_count": 18,
   "metadata": {},
   "outputs": [
    {
     "data": {
      "text/plain": [
       "'扌, 卩, 又'"
      ]
     },
     "execution_count": 18,
     "metadata": {},
     "output_type": "execute_result"
    }
   ],
   "source": [
    "radical_decomposition = \", \".join(processed_radical_list)\n",
    "radical_decomposition"
   ]
  },
  {
   "cell_type": "code",
   "execution_count": null,
   "metadata": {},
   "outputs": [],
   "source": []
  }
 ],
 "metadata": {
  "kernelspec": {
   "display_name": "Python 3.6.13 ('corpus_gen')",
   "language": "python",
   "name": "python3"
  },
  "language_info": {
   "codemirror_mode": {
    "name": "ipython",
    "version": 3
   },
   "file_extension": ".py",
   "mimetype": "text/x-python",
   "name": "python",
   "nbconvert_exporter": "python",
   "pygments_lexer": "ipython3",
   "version": "3.6.13"
  },
  "orig_nbformat": 4,
  "vscode": {
   "interpreter": {
    "hash": "4b35fe933984752f2f756a8aa55d3e42a4f023bbeaca07849624de7a5e0daa4c"
   }
  }
 },
 "nbformat": 4,
 "nbformat_minor": 2
}
