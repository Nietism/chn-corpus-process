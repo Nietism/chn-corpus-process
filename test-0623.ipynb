{
 "cells": [
  {
   "cell_type": "code",
   "execution_count": 1,
   "metadata": {},
   "outputs": [
    {
     "name": "stdout",
     "output_type": "stream",
     "text": [
      "pygame 2.1.2 (SDL 2.0.16, Python 3.6.13)\n",
      "Hello from the pygame community. https://www.pygame.org/contribute.html\n"
     ]
    }
   ],
   "source": [
    "# -*- coding: utf-8 -*-\n",
    "import os \n",
    "import pygame\n",
    "import cv2\n",
    "import codecs\n",
    "import time\n",
    "\n",
    "from PIL import Image\n",
    "# import pytesseract\n",
    "from PIL import Image, ImageFilter\n",
    "from strTools import *\n",
    "import random\n",
    "import argparse\n",
    "from tqdm import tqdm\n",
    "\n",
    "from handler import * "
   ]
  },
  {
   "cell_type": "code",
   "execution_count": 2,
   "metadata": {},
   "outputs": [],
   "source": [
    "file_path = \"dummy.txt\"\n",
    "save_path = \"dummy_save.txt\""
   ]
  },
  {
   "cell_type": "code",
   "execution_count": 3,
   "metadata": {},
   "outputs": [],
   "source": [
    "# with codecs.open(file_path, \"r\", \"utf-8\") as file:\n",
    "#     for line in file.readlines():\n",
    "#         character = line.strip()\n",
    "#         print(character)\n",
    "#         characterToimage(word=character, imagename=character)"
   ]
  },
  {
   "cell_type": "code",
   "execution_count": 4,
   "metadata": {},
   "outputs": [
    {
     "name": "stderr",
     "output_type": "stream",
     "text": [
      "/home/y212202031/.conda/envs/corpus_gen/lib/python3.6/site-packages/tqdm/auto.py:22: TqdmWarning: IProgress not found. Please update jupyter and ipywidgets. See https://ipywidgets.readthedocs.io/en/stable/user_install.html\n",
      "  from .autonotebook import tqdm as notebook_tqdm\n"
     ]
    }
   ],
   "source": [
    "import torch\n",
    "import numpy as np\n",
    "import matplotlib as mpl\n",
    "from matplotlib import pyplot as plt\n",
    "\n",
    "def get_tensor_by_char(character):\n",
    "    img_path = \"./chn-char-lib/\" + character + \".png\"\n",
    "    img = np.array(Image.open(img_path))\n",
    "    img_data = torch.Tensor(img) # [w, h, channel]\n",
    "    return img_data"
   ]
  },
  {
   "cell_type": "code",
   "execution_count": 5,
   "metadata": {},
   "outputs": [
    {
     "name": "stderr",
     "output_type": "stream",
     "text": [
      "Clipping input data to the valid range for imshow with RGB data ([0..1] for floats or [0..255] for integers).\n"
     ]
    },
    {
     "data": {
      "text/plain": [
       "<matplotlib.image.AxesImage at 0x7fac85e666a0>"
      ]
     },
     "execution_count": 5,
     "metadata": {},
     "output_type": "execute_result"
    },
    {
     "data": {
      "image/png": "[encoded data removed]",
      "text/plain": [
       "<Figure size 432x288 with 1 Axes>"
      ]
     },
     "metadata": {
      "needs_background": "light"
     },
     "output_type": "display_data"
    }
   ],
   "source": [
    "plt.imshow(get_tensor_by_char(\"所\"))"
   ]
  },
  {
   "cell_type": "code",
   "execution_count": 6,
   "metadata": {},
   "outputs": [
    {
     "data": {
      "text/plain": [
       "torch.Size([3, 200, 264])"
      ]
     },
     "execution_count": 6,
     "metadata": {},
     "output_type": "execute_result"
    }
   ],
   "source": [
    "compared_chars = [\"为\", \"所\", \"欲\", \"为\"]\n",
    "\n",
    "query_char_data = get_tensor_by_char(\"为\").permute(2, 1, 0) # -> [channel, h, w]\n",
    "\n",
    "query_char_data.shape"
   ]
  },
  {
   "cell_type": "code",
   "execution_count": 7,
   "metadata": {},
   "outputs": [
    {
     "name": "stderr",
     "output_type": "stream",
     "text": [
      "Clipping input data to the valid range for imshow with RGB data ([0..1] for floats or [0..255] for integers).\n"
     ]
    },
    {
     "data": {
      "text/plain": [
       "<matplotlib.image.AxesImage at 0x7fac85d8ab00>"
      ]
     },
     "execution_count": 7,
     "metadata": {},
     "output_type": "execute_result"
    },
    {
     "data": {
      "image/png": "[encoded data removed]",
      "text/plain": [
       "<Figure size 432x288 with 1 Axes>"
      ]
     },
     "metadata": {
      "needs_background": "light"
     },
     "output_type": "display_data"
    }
   ],
   "source": [
    "query_char_data = query_char_data[:, :100, :]\n",
    "plt.imshow(query_char_data.permute(2, 1, 0))"
   ]
  },
  {
   "cell_type": "code",
   "execution_count": 8,
   "metadata": {},
   "outputs": [
    {
     "name": "stderr",
     "output_type": "stream",
     "text": [
      "Clipping input data to the valid range for imshow with RGB data ([0..1] for floats or [0..255] for integers).\n"
     ]
    },
    {
     "data": {
      "text/plain": [
       "<matplotlib.image.AxesImage at 0x7fac85d6acf8>"
      ]
     },
     "execution_count": 8,
     "metadata": {},
     "output_type": "execute_result"
    },
    {
     "data": {
      "image/png": "[encoded data removed]",
      "text/plain": [
       "<Figure size 432x288 with 1 Axes>"
      ]
     },
     "metadata": {
      "needs_background": "light"
     },
     "output_type": "display_data"
    }
   ],
   "source": [
    "test_char_data = get_tensor_by_char(\"所\").permute(2, 1, 0) # [3, 200, 264]\n",
    "test_char_data = test_char_data[:, :100, :]\n",
    "plt.imshow(test_char_data.permute(2, 1, 0))"
   ]
  },
  {
   "cell_type": "code",
   "execution_count": 9,
   "metadata": {},
   "outputs": [],
   "source": [
    "# [3, 100, 264] -> [100, 264]\n",
    "query_char_data = query_char_data[0, :, :]\n",
    "test_char_data = test_char_data[0, :, :] "
   ]
  },
  {
   "cell_type": "code",
   "execution_count": 10,
   "metadata": {},
   "outputs": [],
   "source": [
    "def corr2d(X, K): \n",
    "    h, w = K.shape\n",
    "    Y = torch.zeros((X.shape[0] - h + 1, X.shape[1] - w + 1))\n",
    "    for i in range(Y.shape[0]):\n",
    "        for j in range(Y.shape[1]):\n",
    "            Y[i, j] = (X[i:i + h, j:j + w] * K).sum()\n",
    "    return Y"
   ]
  },
  {
   "cell_type": "code",
   "execution_count": 11,
   "metadata": {},
   "outputs": [
    {
     "data": {
      "text/plain": [
       "tensor([[6.]])"
      ]
     },
     "execution_count": 11,
     "metadata": {},
     "output_type": "execute_result"
    }
   ],
   "source": [
    "X = torch.Tensor([[1, 2], [1, 1]])\n",
    "K = torch.Tensor([[1, 1], [2, 1]])\n",
    "corr2d(X, K)"
   ]
  },
  {
   "cell_type": "code",
   "execution_count": 12,
   "metadata": {},
   "outputs": [
    {
     "name": "stderr",
     "output_type": "stream",
     "text": [
      "/home/y212202031/.conda/envs/corpus_gen/lib/python3.6/site-packages/ipykernel_launcher.py:3: UserWarning: Implicit dimension choice for softmax has been deprecated. Change the call to include dim=X as an argument.\n",
      "  This is separate from the ipykernel package so we can avoid doing imports until\n"
     ]
    },
    {
     "data": {
      "text/plain": [
       "tensor([0.0000, 0.5000, 0.5000])"
      ]
     },
     "execution_count": 12,
     "metadata": {},
     "output_type": "execute_result"
    }
   ],
   "source": [
    "qt_res = corr2d(query_char_data, test_char_data)\n",
    "qq_res = corr2d(query_char_data, query_char_data)\n",
    "torch.nn.functional.softmax(torch.Tensor([qt_res, qq_res, qq_res]))"
   ]
  },
  {
   "cell_type": "code",
   "execution_count": null,
   "metadata": {},
   "outputs": [],
   "source": [
    "def my_min_max_scaler(input_tensor):\n",
    "    min_in = torch.min(input_tensor)\n",
    "    max_in = torch.max(input_tensor)\n",
    "    return (input_tensor - min_in) / max_in\n",
    "\n",
    "def my_softmax(X):\n",
    "    X_exp = torch.exp(X)\n",
    "    partition = X_exp.sum(1, keepdim=True)\n",
    "    return X_exp / partition\n",
    "\n",
    "query_char_data = get_tensor_by_char(\"关\").permute(2, 1, 0)[0, :, :]\n",
    "test1_char_data = get_tensor_by_char(\"并\").permute(2, 1, 0)[0, :, :]\n",
    "test2_char_data = get_tensor_by_char(\"为\").permute(2, 1, 0)[0, :, :]\n",
    "qt1_res = corr2d(query_char_data, test1_char_data)\n",
    "qt2_res = corr2d(query_char_data, test2_char_data)\n",
    "qq_res = corr2d(query_char_data, query_char_data)\n",
    "my_softmax(torch.Tensor([qt1_res, qt2_res, 0]))\n",
    "# torch.nn.functional.softmax(torch.Tensor([qt1_res, qt2_res, 0]), dim=-1)\n",
    "# my_min_max_scaler(torch.Tensor([qt1_res, qt2_res, 0]))"
   ]
  },
  {
   "cell_type": "code",
   "execution_count": null,
   "metadata": {},
   "outputs": [],
   "source": [
    "# qt1_res, qt2_res, qq_res"
   ]
  },
  {
   "cell_type": "code",
   "execution_count": null,
   "metadata": {},
   "outputs": [],
   "source": []
  },
  {
   "cell_type": "code",
   "execution_count": null,
   "metadata": {},
   "outputs": [],
   "source": []
  },
  {
   "cell_type": "code",
   "execution_count": null,
   "metadata": {},
   "outputs": [],
   "source": []
  }
 ],
 "metadata": {
  "kernelspec": {
   "display_name": "Python 3.6.13 ('corpus_gen')",
   "language": "python",
   "name": "python3"
  },
  "language_info": {
   "codemirror_mode": {
    "name": "ipython",
    "version": 3
   },
   "file_extension": ".py",
   "mimetype": "text/x-python",
   "name": "python",
   "nbconvert_exporter": "python",
   "pygments_lexer": "ipython3",
   "version": "3.6.13"
  },
  "orig_nbformat": 4,
  "vscode": {
   "interpreter": {
    "hash": "4b35fe933984752f2f756a8aa55d3e42a4f023bbeaca07849624de7a5e0daa4c"
   }
  }
 },
 "nbformat": 4,
 "nbformat_minor": 2
}
